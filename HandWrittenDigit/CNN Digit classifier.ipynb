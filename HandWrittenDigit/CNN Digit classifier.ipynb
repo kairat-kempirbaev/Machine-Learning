{
 "cells": [
  {
   "cell_type": "code",
   "execution_count": 1,
   "id": "7a64c7b5",
   "metadata": {},
   "outputs": [],
   "source": [
    "import keras\n",
    "from tensorflow import keras\n",
    "from tensorflow.keras import layers\n",
    "import numpy as np\n",
    "import pandas as pd\n",
    "\n",
    "from IPython.display import display\n",
    "\n",
    "from sklearn.preprocessing import LabelEncoder,  StandardScaler, OneHotEncoder\n",
    "\n",
    "from tensorflow.keras.callbacks import EarlyStopping\n",
    "\n",
    "from sklearn.compose import make_column_transformer, make_column_selector\n",
    "\n",
    "from sklearn.decomposition import PCA\n",
    "from sklearn.model_selection import train_test_split\n",
    "\n",
    "from sklearn.metrics import accuracy_score, precision_score, recall_score\n",
    "from tensorflow import keras\n",
    "from tensorflow.keras import layers\n",
    "# Setup plotting\n",
    "import matplotlib.pyplot as plt\n",
    "import tensorflow as tf\n",
    "from keras.datasets import mnist\n",
    "# Setup plotting\n",
    "import matplotlib.pyplot as plt\n",
    "\n",
    "plt.style.use('seaborn-whitegrid')\n",
    "# Set Matplotlib defaults\n",
    "plt.rc('figure', autolayout=True)\n",
    "plt.rc('axes', labelweight='bold', labelsize='large',\n",
    "       titleweight='bold', titlesize=18, titlepad=10)\n",
    "plt.rc('animation', html='html5')\n",
    "\n",
    "import pandas as pd\n",
    "(trainX, trainy), (testX, testy) = mnist.load_data()"
   ]
  },
  {
   "cell_type": "code",
   "execution_count": 2,
   "id": "3fa64f02",
   "metadata": {},
   "outputs": [
    {
     "name": "stdout",
     "output_type": "stream",
     "text": [
      "Model: \"sequential\"\n",
      "_________________________________________________________________\n",
      " Layer (type)                Output Shape              Param #   \n",
      "=================================================================\n",
      " conv2d (Conv2D)             (None, 26, 26, 32)        320       \n",
      "                                                                 \n",
      " max_pooling2d (MaxPooling2D  (None, 13, 13, 32)       0         \n",
      " )                                                               \n",
      "                                                                 \n",
      " conv2d_1 (Conv2D)           (None, 11, 11, 64)        18496     \n",
      "                                                                 \n",
      " max_pooling2d_1 (MaxPooling  (None, 5, 5, 64)         0         \n",
      " 2D)                                                             \n",
      "                                                                 \n",
      " flatten (Flatten)           (None, 1600)              0         \n",
      "                                                                 \n",
      " dense (Dense)               (None, 64)                102464    \n",
      "                                                                 \n",
      " batch_normalization (BatchN  (None, 64)               256       \n",
      " ormalization)                                                   \n",
      "                                                                 \n",
      " dense_1 (Dense)             (None, 10)                650       \n",
      "                                                                 \n",
      "=================================================================\n",
      "Total params: 122,186\n",
      "Trainable params: 122,058\n",
      "Non-trainable params: 128\n",
      "_________________________________________________________________\n"
     ]
    }
   ],
   "source": [
    "model = keras.Sequential([\n",
    "    # the hidden ReLU layers\n",
    "    layers.Conv2D(32, (3, 3), activation='relu', input_shape=(28, 28, 1)),\n",
    "    layers.MaxPooling2D((2, 2)),\n",
    "    layers.Conv2D(64, (3, 3), activation='relu'),\n",
    "    layers.MaxPooling2D((2, 2)),\n",
    "    layers.Flatten(),\n",
    "    layers.Dense(units=64, activation='relu'),\n",
    "    layers.BatchNormalization(),\n",
    "    # the Categ output layer \n",
    "    layers.Dense(units=10),\n",
    "])\n",
    "model.summary()"
   ]
  },
  {
   "cell_type": "code",
   "execution_count": 3,
   "id": "17937acc",
   "metadata": {},
   "outputs": [],
   "source": [
    "model.compile(optimizer='adam',\n",
    "              loss=tf.keras.losses.SparseCategoricalCrossentropy(from_logits=True),\n",
    "              metrics=['accuracy'])"
   ]
  },
  {
   "cell_type": "code",
   "execution_count": 4,
   "id": "35d76915",
   "metadata": {},
   "outputs": [
    {
     "name": "stdout",
     "output_type": "stream",
     "text": [
      "Epoch 1/10\n",
      "500/500 [==============================] - 20s 38ms/step - loss: 0.1270 - accuracy: 0.9656 - val_loss: 0.1144 - val_accuracy: 0.9678\n",
      "Epoch 2/10\n",
      "500/500 [==============================] - 18s 36ms/step - loss: 0.0408 - accuracy: 0.9881 - val_loss: 0.0476 - val_accuracy: 0.9860\n",
      "Epoch 3/10\n",
      "500/500 [==============================] - 19s 38ms/step - loss: 0.0283 - accuracy: 0.9916 - val_loss: 0.0352 - val_accuracy: 0.9890\n",
      "Epoch 4/10\n",
      "500/500 [==============================] - 18s 36ms/step - loss: 0.0196 - accuracy: 0.9942 - val_loss: 0.0282 - val_accuracy: 0.9907\n",
      "Epoch 5/10\n",
      "500/500 [==============================] - 22s 43ms/step - loss: 0.0154 - accuracy: 0.9954 - val_loss: 0.0492 - val_accuracy: 0.9842\n",
      "Epoch 6/10\n",
      "500/500 [==============================] - 18s 36ms/step - loss: 0.0125 - accuracy: 0.9961 - val_loss: 0.0398 - val_accuracy: 0.9868\n",
      "Epoch 7/10\n",
      "500/500 [==============================] - 18s 36ms/step - loss: 0.0088 - accuracy: 0.9975 - val_loss: 0.0350 - val_accuracy: 0.9892\n",
      "Epoch 8/10\n",
      "500/500 [==============================] - 18s 36ms/step - loss: 0.0086 - accuracy: 0.9973 - val_loss: 0.0332 - val_accuracy: 0.9892\n",
      "Epoch 9/10\n",
      "500/500 [==============================] - 19s 38ms/step - loss: 0.0066 - accuracy: 0.9980 - val_loss: 0.0542 - val_accuracy: 0.9840\n"
     ]
    },
    {
     "data": {
      "image/png": "[encoded data removed]",
      "text/plain": [
       "<Figure size 432x288 with 1 Axes>"
      ]
     },
     "metadata": {},
     "output_type": "display_data"
    }
   ],
   "source": [
    "early_stopping = EarlyStopping(\n",
    "    min_delta=0.00001, # minimium amount of change to count as an improvement\n",
    "    patience=5, # how many epochs to wait before stopping\n",
    "    restore_best_weights=True,\n",
    ")\n",
    "\n",
    "history = model.fit(\n",
    "    trainX, trainy,\n",
    "    validation_data=(testX, testy),\n",
    "    batch_size=120,\n",
    "    epochs=10,\n",
    "    callbacks=[early_stopping],\n",
    ")\n",
    "# convert the training history to a dataframe\n",
    "history_df = pd.DataFrame(history.history)\n",
    "history_df.loc[:, ['loss', 'val_loss']].plot();"
   ]
  },
  {
   "cell_type": "code",
   "execution_count": 5,
   "id": "03199cab",
   "metadata": {},
   "outputs": [
    {
     "data": {
      "text/plain": [
       "<matplotlib.legend.Legend at 0x2075f2ac3d0>"
      ]
     },
     "execution_count": 5,
     "metadata": {},
     "output_type": "execute_result"
    },
    {
     "data": {
      "image/png": "[encoded data removed]",
      "text/plain": [
       "<Figure size 432x288 with 1 Axes>"
      ]
     },
     "metadata": {},
     "output_type": "display_data"
    }
   ],
   "source": [
    "plt.plot(history.history['accuracy'], label='accuracy')\n",
    "plt.plot(history.history['val_accuracy'], label = 'val_accuracy')\n",
    "plt.xlabel('Epoch')\n",
    "plt.ylabel('Accuracy')\n",
    "plt.ylim([0.5, 1])\n",
    "plt.legend(loc='lower right')"
   ]
  },
  {
   "cell_type": "code",
   "execution_count": 6,
   "id": "88562a68",
   "metadata": {},
   "outputs": [
    {
     "data": {
      "image/png": "[encoded data removed]",
      "text/plain": [
       "<Figure size 432x288 with 1 Axes>"
      ]
     },
     "metadata": {},
     "output_type": "display_data"
    },
    {
     "name": "stdout",
     "output_type": "stream",
     "text": [
      "3\n"
     ]
    }
   ],
   "source": [
    "toTest = trainX[5432]\n",
    "plt.imshow(toTest, cmap='gray')\n",
    "plt.show()\n",
    "print(np.argmax(model.predict(np.expand_dims(toTest,axis=0)), axis=1)[0])"
   ]
  }
 ],
 "metadata": {
  "kernelspec": {
   "display_name": "Python 3 (ipykernel)",
   "language": "python",
   "name": "python3"
  },
  "language_info": {
   "codemirror_mode": {
    "name": "ipython",
    "version": 3
   },
   "file_extension": ".py",
   "mimetype": "text/x-python",
   "name": "python",
   "nbconvert_exporter": "python",
   "pygments_lexer": "ipython3",
   "version": "3.9.7"
  }
 },
 "nbformat": 4,
 "nbformat_minor": 5
}
